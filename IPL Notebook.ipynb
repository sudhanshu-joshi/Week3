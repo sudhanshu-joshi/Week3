{
 "cells": [
  {
   "cell_type": "markdown",
   "id": "19b5a582",
   "metadata": {},
   "source": [
    "# IPL DATASET VISUALIZATION"
   ]
  },
  {
   "cell_type": "code",
   "execution_count": 124,
   "id": "8760610d",
   "metadata": {},
   "outputs": [],
   "source": [
    "import pandas as pd"
   ]
  },
  {
   "cell_type": "code",
   "execution_count": 60,
   "id": "77857e05",
   "metadata": {},
   "outputs": [],
   "source": [
    "data =pd.read_csv(\"C:\\\\Users\\\\Admin\\\\OneDrive\\\\Desktop\\\\New folder\\\\matches.csv\")"
   ]
  },
  {
   "cell_type": "code",
   "execution_count": 61,
   "id": "860873b9",
   "metadata": {},
   "outputs": [
    {
     "data": {
      "text/html": [
       "<div>\n",
       "<style scoped>\n",
       "    .dataframe tbody tr th:only-of-type {\n",
       "        vertical-align: middle;\n",
       "    }\n",
       "\n",
       "    .dataframe tbody tr th {\n",
       "        vertical-align: top;\n",
       "    }\n",
       "\n",
       "    .dataframe thead th {\n",
       "        text-align: right;\n",
       "    }\n",
       "</style>\n",
       "<table border=\"1\" class=\"dataframe\">\n",
       "  <thead>\n",
       "    <tr style=\"text-align: right;\">\n",
       "      <th></th>\n",
       "      <th>match_id</th>\n",
       "      <th>date</th>\n",
       "      <th>venue</th>\n",
       "      <th>team1</th>\n",
       "      <th>team2</th>\n",
       "      <th>stage</th>\n",
       "      <th>toss_winner</th>\n",
       "      <th>toss_decision</th>\n",
       "      <th>first_ings_score</th>\n",
       "      <th>first_ings_wkts</th>\n",
       "      <th>...</th>\n",
       "      <th>match_result</th>\n",
       "      <th>match_winner</th>\n",
       "      <th>wb_runs</th>\n",
       "      <th>wb_wickets</th>\n",
       "      <th>balls_left</th>\n",
       "      <th>player_of_the_match</th>\n",
       "      <th>top_scorer</th>\n",
       "      <th>highscore</th>\n",
       "      <th>best_bowling</th>\n",
       "      <th>best_bowling_figure</th>\n",
       "    </tr>\n",
       "  </thead>\n",
       "  <tbody>\n",
       "    <tr>\n",
       "      <th>0</th>\n",
       "      <td>1</td>\n",
       "      <td>March 22,2025</td>\n",
       "      <td>Eden Gardens, Kolkata</td>\n",
       "      <td>KKR</td>\n",
       "      <td>RCB</td>\n",
       "      <td>League</td>\n",
       "      <td>RCB</td>\n",
       "      <td>Bowl</td>\n",
       "      <td>174.0</td>\n",
       "      <td>8.0</td>\n",
       "      <td>...</td>\n",
       "      <td>completed</td>\n",
       "      <td>RCB</td>\n",
       "      <td>NaN</td>\n",
       "      <td>7</td>\n",
       "      <td>22.0</td>\n",
       "      <td>Krunal Pandya</td>\n",
       "      <td>Virat Kohli</td>\n",
       "      <td>59.0</td>\n",
       "      <td>Krunal Pandya</td>\n",
       "      <td>3--29</td>\n",
       "    </tr>\n",
       "    <tr>\n",
       "      <th>1</th>\n",
       "      <td>2</td>\n",
       "      <td>March 23,2025</td>\n",
       "      <td>Rajiv Gandhi International Stadium, Hyderabad</td>\n",
       "      <td>SRH</td>\n",
       "      <td>RR</td>\n",
       "      <td>League</td>\n",
       "      <td>RR</td>\n",
       "      <td>Bowl</td>\n",
       "      <td>286.0</td>\n",
       "      <td>6.0</td>\n",
       "      <td>...</td>\n",
       "      <td>completed</td>\n",
       "      <td>SRH</td>\n",
       "      <td>44</td>\n",
       "      <td>NaN</td>\n",
       "      <td>0.0</td>\n",
       "      <td>Ishan Kishan</td>\n",
       "      <td>Ishan Kishan</td>\n",
       "      <td>106.0</td>\n",
       "      <td>Tushar Deshpande</td>\n",
       "      <td>3--44</td>\n",
       "    </tr>\n",
       "    <tr>\n",
       "      <th>2</th>\n",
       "      <td>3</td>\n",
       "      <td>March 23,2025</td>\n",
       "      <td>MA Chidambaram Stadium, Chennai</td>\n",
       "      <td>CSK</td>\n",
       "      <td>MI</td>\n",
       "      <td>League</td>\n",
       "      <td>CSK</td>\n",
       "      <td>Bowl</td>\n",
       "      <td>155.0</td>\n",
       "      <td>9.0</td>\n",
       "      <td>...</td>\n",
       "      <td>completed</td>\n",
       "      <td>CSK</td>\n",
       "      <td>NaN</td>\n",
       "      <td>4</td>\n",
       "      <td>5.0</td>\n",
       "      <td>Noor Ahmad</td>\n",
       "      <td>Rachin Ravindra</td>\n",
       "      <td>65.0</td>\n",
       "      <td>Noor Ahmad</td>\n",
       "      <td>4--18</td>\n",
       "    </tr>\n",
       "    <tr>\n",
       "      <th>3</th>\n",
       "      <td>4</td>\n",
       "      <td>March 24,2025</td>\n",
       "      <td>ACA-VDCA Cricket Stadium, Vishakhapatnam</td>\n",
       "      <td>DC</td>\n",
       "      <td>LSG</td>\n",
       "      <td>League</td>\n",
       "      <td>DC</td>\n",
       "      <td>Bowl</td>\n",
       "      <td>209.0</td>\n",
       "      <td>8.0</td>\n",
       "      <td>...</td>\n",
       "      <td>completed</td>\n",
       "      <td>DC</td>\n",
       "      <td>NaN</td>\n",
       "      <td>1</td>\n",
       "      <td>3.0</td>\n",
       "      <td>Ashutosh Sharma</td>\n",
       "      <td>Nicholas Pooran</td>\n",
       "      <td>75.0</td>\n",
       "      <td>Mitchell Starc</td>\n",
       "      <td>3--42</td>\n",
       "    </tr>\n",
       "    <tr>\n",
       "      <th>4</th>\n",
       "      <td>5</td>\n",
       "      <td>March 25,2025</td>\n",
       "      <td>Narendra Modi Stadium, Ahmedabad</td>\n",
       "      <td>GT</td>\n",
       "      <td>PBKS</td>\n",
       "      <td>League</td>\n",
       "      <td>GT</td>\n",
       "      <td>Bowl</td>\n",
       "      <td>243.0</td>\n",
       "      <td>5.0</td>\n",
       "      <td>...</td>\n",
       "      <td>completed</td>\n",
       "      <td>PBKS</td>\n",
       "      <td>11</td>\n",
       "      <td>NaN</td>\n",
       "      <td>0.0</td>\n",
       "      <td>Shreyas Iyer</td>\n",
       "      <td>Shreyas Iyer</td>\n",
       "      <td>97.0</td>\n",
       "      <td>Sai Kishore</td>\n",
       "      <td>3--30</td>\n",
       "    </tr>\n",
       "    <tr>\n",
       "      <th>...</th>\n",
       "      <td>...</td>\n",
       "      <td>...</td>\n",
       "      <td>...</td>\n",
       "      <td>...</td>\n",
       "      <td>...</td>\n",
       "      <td>...</td>\n",
       "      <td>...</td>\n",
       "      <td>...</td>\n",
       "      <td>...</td>\n",
       "      <td>...</td>\n",
       "      <td>...</td>\n",
       "      <td>...</td>\n",
       "      <td>...</td>\n",
       "      <td>...</td>\n",
       "      <td>...</td>\n",
       "      <td>...</td>\n",
       "      <td>...</td>\n",
       "      <td>...</td>\n",
       "      <td>...</td>\n",
       "      <td>...</td>\n",
       "      <td>...</td>\n",
       "    </tr>\n",
       "    <tr>\n",
       "      <th>69</th>\n",
       "      <td>70</td>\n",
       "      <td>May 27,2025</td>\n",
       "      <td>Ekana Cricket Stadium, Lucknow</td>\n",
       "      <td>LSG</td>\n",
       "      <td>RCB</td>\n",
       "      <td>League</td>\n",
       "      <td>RCB</td>\n",
       "      <td>Bowl</td>\n",
       "      <td>227.0</td>\n",
       "      <td>3.0</td>\n",
       "      <td>...</td>\n",
       "      <td>completed</td>\n",
       "      <td>RCB</td>\n",
       "      <td>NaN</td>\n",
       "      <td>6</td>\n",
       "      <td>8.0</td>\n",
       "      <td>Jitesh Sharma</td>\n",
       "      <td>Rishabh Pant</td>\n",
       "      <td>118.0</td>\n",
       "      <td>Will O'Rourke</td>\n",
       "      <td>2--74</td>\n",
       "    </tr>\n",
       "    <tr>\n",
       "      <th>70</th>\n",
       "      <td>71</td>\n",
       "      <td>May 29,2025</td>\n",
       "      <td>New PCA Cricket Stadium, Mullanpur</td>\n",
       "      <td>PBKS</td>\n",
       "      <td>RCB</td>\n",
       "      <td>Playoffs</td>\n",
       "      <td>RCB</td>\n",
       "      <td>Bowl</td>\n",
       "      <td>101.0</td>\n",
       "      <td>10.0</td>\n",
       "      <td>...</td>\n",
       "      <td>completed</td>\n",
       "      <td>RCB</td>\n",
       "      <td>NaN</td>\n",
       "      <td>8</td>\n",
       "      <td>60.0</td>\n",
       "      <td>Suyash Sharma</td>\n",
       "      <td>Phil Salt</td>\n",
       "      <td>56.0</td>\n",
       "      <td>Suyash Sharma</td>\n",
       "      <td>3--17</td>\n",
       "    </tr>\n",
       "    <tr>\n",
       "      <th>71</th>\n",
       "      <td>72</td>\n",
       "      <td>May 30,2025</td>\n",
       "      <td>New PCA Cricket Stadium, Mullanpur</td>\n",
       "      <td>GT</td>\n",
       "      <td>MI</td>\n",
       "      <td>Playoffs</td>\n",
       "      <td>MI</td>\n",
       "      <td>Bat</td>\n",
       "      <td>228.0</td>\n",
       "      <td>5.0</td>\n",
       "      <td>...</td>\n",
       "      <td>completed</td>\n",
       "      <td>MI</td>\n",
       "      <td>20</td>\n",
       "      <td>NaN</td>\n",
       "      <td>0.0</td>\n",
       "      <td>Rohit Sharma</td>\n",
       "      <td>Rohit Sharma</td>\n",
       "      <td>81.0</td>\n",
       "      <td>Sai Kishore</td>\n",
       "      <td>2--42</td>\n",
       "    </tr>\n",
       "    <tr>\n",
       "      <th>72</th>\n",
       "      <td>73</td>\n",
       "      <td>June 1,2025</td>\n",
       "      <td>Narendra Modi Stadium, Ahmedabad</td>\n",
       "      <td>PBKS</td>\n",
       "      <td>MI</td>\n",
       "      <td>Playoffs</td>\n",
       "      <td>PBKS</td>\n",
       "      <td>Bowl</td>\n",
       "      <td>203.0</td>\n",
       "      <td>6.0</td>\n",
       "      <td>...</td>\n",
       "      <td>completed</td>\n",
       "      <td>PBKS</td>\n",
       "      <td>NaN</td>\n",
       "      <td>5</td>\n",
       "      <td>6.0</td>\n",
       "      <td>Shreyas Iyer</td>\n",
       "      <td>Shreyas Iyer</td>\n",
       "      <td>87.0</td>\n",
       "      <td>Azmatullah Omarzai</td>\n",
       "      <td>2--43</td>\n",
       "    </tr>\n",
       "    <tr>\n",
       "      <th>73</th>\n",
       "      <td>74</td>\n",
       "      <td>June 3,2025</td>\n",
       "      <td>Narendra Modi Stadium, Ahmedabad</td>\n",
       "      <td>RCB</td>\n",
       "      <td>PBKS</td>\n",
       "      <td>Final</td>\n",
       "      <td>PBKS</td>\n",
       "      <td>Bowl</td>\n",
       "      <td>190.0</td>\n",
       "      <td>9.0</td>\n",
       "      <td>...</td>\n",
       "      <td>completed</td>\n",
       "      <td>RCB</td>\n",
       "      <td>6</td>\n",
       "      <td>NaN</td>\n",
       "      <td>0.0</td>\n",
       "      <td>Krunal Pandya</td>\n",
       "      <td>Shashank Singh</td>\n",
       "      <td>61.0</td>\n",
       "      <td>Arshdeep Singh</td>\n",
       "      <td>3--40</td>\n",
       "    </tr>\n",
       "  </tbody>\n",
       "</table>\n",
       "<p>74 rows × 22 columns</p>\n",
       "</div>"
      ],
      "text/plain": [
       "    match_id           date                                          venue  \\\n",
       "0          1  March 22,2025                          Eden Gardens, Kolkata   \n",
       "1          2  March 23,2025  Rajiv Gandhi International Stadium, Hyderabad   \n",
       "2          3  March 23,2025                MA Chidambaram Stadium, Chennai   \n",
       "3          4  March 24,2025       ACA-VDCA Cricket Stadium, Vishakhapatnam   \n",
       "4          5  March 25,2025               Narendra Modi Stadium, Ahmedabad   \n",
       "..       ...            ...                                            ...   \n",
       "69        70    May 27,2025                 Ekana Cricket Stadium, Lucknow   \n",
       "70        71    May 29,2025             New PCA Cricket Stadium, Mullanpur   \n",
       "71        72    May 30,2025             New PCA Cricket Stadium, Mullanpur   \n",
       "72        73    June 1,2025               Narendra Modi Stadium, Ahmedabad   \n",
       "73        74    June 3,2025               Narendra Modi Stadium, Ahmedabad   \n",
       "\n",
       "   team1 team2     stage toss_winner toss_decision  first_ings_score  \\\n",
       "0    KKR   RCB    League         RCB          Bowl             174.0   \n",
       "1    SRH    RR    League          RR          Bowl             286.0   \n",
       "2    CSK    MI    League         CSK          Bowl             155.0   \n",
       "3     DC   LSG    League          DC          Bowl             209.0   \n",
       "4     GT  PBKS    League          GT          Bowl             243.0   \n",
       "..   ...   ...       ...         ...           ...               ...   \n",
       "69   LSG   RCB    League         RCB          Bowl             227.0   \n",
       "70  PBKS   RCB  Playoffs         RCB          Bowl             101.0   \n",
       "71    GT    MI  Playoffs          MI           Bat             228.0   \n",
       "72  PBKS    MI  Playoffs        PBKS          Bowl             203.0   \n",
       "73   RCB  PBKS     Final        PBKS          Bowl             190.0   \n",
       "\n",
       "    first_ings_wkts  ...  match_result  match_winner wb_runs wb_wickets  \\\n",
       "0               8.0  ...     completed           RCB     NaN          7   \n",
       "1               6.0  ...     completed           SRH      44        NaN   \n",
       "2               9.0  ...     completed           CSK     NaN          4   \n",
       "3               8.0  ...     completed            DC     NaN          1   \n",
       "4               5.0  ...     completed          PBKS      11        NaN   \n",
       "..              ...  ...           ...           ...     ...        ...   \n",
       "69              3.0  ...     completed           RCB     NaN          6   \n",
       "70             10.0  ...     completed           RCB     NaN          8   \n",
       "71              5.0  ...     completed            MI      20        NaN   \n",
       "72              6.0  ...     completed          PBKS     NaN          5   \n",
       "73              9.0  ...     completed           RCB       6        NaN   \n",
       "\n",
       "   balls_left player_of_the_match       top_scorer highscore  \\\n",
       "0        22.0       Krunal Pandya      Virat Kohli      59.0   \n",
       "1         0.0        Ishan Kishan     Ishan Kishan     106.0   \n",
       "2         5.0          Noor Ahmad  Rachin Ravindra      65.0   \n",
       "3         3.0     Ashutosh Sharma  Nicholas Pooran      75.0   \n",
       "4         0.0        Shreyas Iyer     Shreyas Iyer      97.0   \n",
       "..        ...                 ...              ...       ...   \n",
       "69        8.0       Jitesh Sharma     Rishabh Pant     118.0   \n",
       "70       60.0       Suyash Sharma        Phil Salt      56.0   \n",
       "71        0.0        Rohit Sharma     Rohit Sharma      81.0   \n",
       "72        6.0        Shreyas Iyer     Shreyas Iyer      87.0   \n",
       "73        0.0       Krunal Pandya   Shashank Singh      61.0   \n",
       "\n",
       "          best_bowling  best_bowling_figure  \n",
       "0        Krunal Pandya                3--29  \n",
       "1     Tushar Deshpande                3--44  \n",
       "2           Noor Ahmad                4--18  \n",
       "3       Mitchell Starc                3--42  \n",
       "4          Sai Kishore                3--30  \n",
       "..                 ...                  ...  \n",
       "69       Will O'Rourke                2--74  \n",
       "70       Suyash Sharma                3--17  \n",
       "71         Sai Kishore                2--42  \n",
       "72  Azmatullah Omarzai                2--43  \n",
       "73      Arshdeep Singh                3--40  \n",
       "\n",
       "[74 rows x 22 columns]"
      ]
     },
     "execution_count": 61,
     "metadata": {},
     "output_type": "execute_result"
    }
   ],
   "source": [
    "data"
   ]
  },
  {
   "cell_type": "code",
   "execution_count": 62,
   "id": "bcf0ddbd",
   "metadata": {},
   "outputs": [],
   "source": [
    "from matplotlib import pyplot as plt"
   ]
  },
  {
   "cell_type": "code",
   "execution_count": 125,
   "id": "c6eae0fa",
   "metadata": {},
   "outputs": [
    {
     "data": {
      "text/html": [
       "<div>\n",
       "<style scoped>\n",
       "    .dataframe tbody tr th:only-of-type {\n",
       "        vertical-align: middle;\n",
       "    }\n",
       "\n",
       "    .dataframe tbody tr th {\n",
       "        vertical-align: top;\n",
       "    }\n",
       "\n",
       "    .dataframe thead th {\n",
       "        text-align: right;\n",
       "    }\n",
       "</style>\n",
       "<table border=\"1\" class=\"dataframe\">\n",
       "  <thead>\n",
       "    <tr style=\"text-align: right;\">\n",
       "      <th></th>\n",
       "      <th>match_id</th>\n",
       "      <th>date</th>\n",
       "      <th>venue</th>\n",
       "      <th>team1</th>\n",
       "      <th>team2</th>\n",
       "      <th>stage</th>\n",
       "      <th>toss_winner</th>\n",
       "      <th>toss_decision</th>\n",
       "      <th>first_ings_score</th>\n",
       "      <th>first_ings_wkts</th>\n",
       "      <th>...</th>\n",
       "      <th>match_result</th>\n",
       "      <th>match_winner</th>\n",
       "      <th>wb_runs</th>\n",
       "      <th>wb_wickets</th>\n",
       "      <th>balls_left</th>\n",
       "      <th>player_of_the_match</th>\n",
       "      <th>top_scorer</th>\n",
       "      <th>highscore</th>\n",
       "      <th>best_bowling</th>\n",
       "      <th>best_bowling_figure</th>\n",
       "    </tr>\n",
       "  </thead>\n",
       "  <tbody>\n",
       "    <tr>\n",
       "      <th>0</th>\n",
       "      <td>1</td>\n",
       "      <td>March 22,2025</td>\n",
       "      <td>Eden Gardens, Kolkata</td>\n",
       "      <td>KKR</td>\n",
       "      <td>RCB</td>\n",
       "      <td>League</td>\n",
       "      <td>RCB</td>\n",
       "      <td>Bowl</td>\n",
       "      <td>174.0</td>\n",
       "      <td>8.0</td>\n",
       "      <td>...</td>\n",
       "      <td>completed</td>\n",
       "      <td>RCB</td>\n",
       "      <td>NaN</td>\n",
       "      <td>7</td>\n",
       "      <td>22.0</td>\n",
       "      <td>Krunal Pandya</td>\n",
       "      <td>Virat Kohli</td>\n",
       "      <td>59.0</td>\n",
       "      <td>Krunal Pandya</td>\n",
       "      <td>3--29</td>\n",
       "    </tr>\n",
       "    <tr>\n",
       "      <th>1</th>\n",
       "      <td>2</td>\n",
       "      <td>March 23,2025</td>\n",
       "      <td>Rajiv Gandhi International Stadium, Hyderabad</td>\n",
       "      <td>SRH</td>\n",
       "      <td>RR</td>\n",
       "      <td>League</td>\n",
       "      <td>RR</td>\n",
       "      <td>Bowl</td>\n",
       "      <td>286.0</td>\n",
       "      <td>6.0</td>\n",
       "      <td>...</td>\n",
       "      <td>completed</td>\n",
       "      <td>SRH</td>\n",
       "      <td>44</td>\n",
       "      <td>NaN</td>\n",
       "      <td>0.0</td>\n",
       "      <td>Ishan Kishan</td>\n",
       "      <td>Ishan Kishan</td>\n",
       "      <td>106.0</td>\n",
       "      <td>Tushar Deshpande</td>\n",
       "      <td>3--44</td>\n",
       "    </tr>\n",
       "    <tr>\n",
       "      <th>2</th>\n",
       "      <td>3</td>\n",
       "      <td>March 23,2025</td>\n",
       "      <td>MA Chidambaram Stadium, Chennai</td>\n",
       "      <td>CSK</td>\n",
       "      <td>MI</td>\n",
       "      <td>League</td>\n",
       "      <td>CSK</td>\n",
       "      <td>Bowl</td>\n",
       "      <td>155.0</td>\n",
       "      <td>9.0</td>\n",
       "      <td>...</td>\n",
       "      <td>completed</td>\n",
       "      <td>CSK</td>\n",
       "      <td>NaN</td>\n",
       "      <td>4</td>\n",
       "      <td>5.0</td>\n",
       "      <td>Noor Ahmad</td>\n",
       "      <td>Rachin Ravindra</td>\n",
       "      <td>65.0</td>\n",
       "      <td>Noor Ahmad</td>\n",
       "      <td>4--18</td>\n",
       "    </tr>\n",
       "    <tr>\n",
       "      <th>3</th>\n",
       "      <td>4</td>\n",
       "      <td>March 24,2025</td>\n",
       "      <td>ACA-VDCA Cricket Stadium, Vishakhapatnam</td>\n",
       "      <td>DC</td>\n",
       "      <td>LSG</td>\n",
       "      <td>League</td>\n",
       "      <td>DC</td>\n",
       "      <td>Bowl</td>\n",
       "      <td>209.0</td>\n",
       "      <td>8.0</td>\n",
       "      <td>...</td>\n",
       "      <td>completed</td>\n",
       "      <td>DC</td>\n",
       "      <td>NaN</td>\n",
       "      <td>1</td>\n",
       "      <td>3.0</td>\n",
       "      <td>Ashutosh Sharma</td>\n",
       "      <td>Nicholas Pooran</td>\n",
       "      <td>75.0</td>\n",
       "      <td>Mitchell Starc</td>\n",
       "      <td>3--42</td>\n",
       "    </tr>\n",
       "    <tr>\n",
       "      <th>4</th>\n",
       "      <td>5</td>\n",
       "      <td>March 25,2025</td>\n",
       "      <td>Narendra Modi Stadium, Ahmedabad</td>\n",
       "      <td>GT</td>\n",
       "      <td>PBKS</td>\n",
       "      <td>League</td>\n",
       "      <td>GT</td>\n",
       "      <td>Bowl</td>\n",
       "      <td>243.0</td>\n",
       "      <td>5.0</td>\n",
       "      <td>...</td>\n",
       "      <td>completed</td>\n",
       "      <td>PBKS</td>\n",
       "      <td>11</td>\n",
       "      <td>NaN</td>\n",
       "      <td>0.0</td>\n",
       "      <td>Shreyas Iyer</td>\n",
       "      <td>Shreyas Iyer</td>\n",
       "      <td>97.0</td>\n",
       "      <td>Sai Kishore</td>\n",
       "      <td>3--30</td>\n",
       "    </tr>\n",
       "  </tbody>\n",
       "</table>\n",
       "<p>5 rows × 22 columns</p>\n",
       "</div>"
      ],
      "text/plain": [
       "   match_id           date                                          venue  \\\n",
       "0         1  March 22,2025                          Eden Gardens, Kolkata   \n",
       "1         2  March 23,2025  Rajiv Gandhi International Stadium, Hyderabad   \n",
       "2         3  March 23,2025                MA Chidambaram Stadium, Chennai   \n",
       "3         4  March 24,2025       ACA-VDCA Cricket Stadium, Vishakhapatnam   \n",
       "4         5  March 25,2025               Narendra Modi Stadium, Ahmedabad   \n",
       "\n",
       "  team1 team2   stage toss_winner toss_decision  first_ings_score  \\\n",
       "0   KKR   RCB  League         RCB          Bowl             174.0   \n",
       "1   SRH    RR  League          RR          Bowl             286.0   \n",
       "2   CSK    MI  League         CSK          Bowl             155.0   \n",
       "3    DC   LSG  League          DC          Bowl             209.0   \n",
       "4    GT  PBKS  League          GT          Bowl             243.0   \n",
       "\n",
       "   first_ings_wkts  ...  match_result  match_winner wb_runs wb_wickets  \\\n",
       "0              8.0  ...     completed           RCB     NaN          7   \n",
       "1              6.0  ...     completed           SRH      44        NaN   \n",
       "2              9.0  ...     completed           CSK     NaN          4   \n",
       "3              8.0  ...     completed            DC     NaN          1   \n",
       "4              5.0  ...     completed          PBKS      11        NaN   \n",
       "\n",
       "  balls_left player_of_the_match       top_scorer highscore      best_bowling  \\\n",
       "0       22.0       Krunal Pandya      Virat Kohli      59.0     Krunal Pandya   \n",
       "1        0.0        Ishan Kishan     Ishan Kishan     106.0  Tushar Deshpande   \n",
       "2        5.0          Noor Ahmad  Rachin Ravindra      65.0        Noor Ahmad   \n",
       "3        3.0     Ashutosh Sharma  Nicholas Pooran      75.0    Mitchell Starc   \n",
       "4        0.0        Shreyas Iyer     Shreyas Iyer      97.0       Sai Kishore   \n",
       "\n",
       "   best_bowling_figure  \n",
       "0                3--29  \n",
       "1                3--44  \n",
       "2                4--18  \n",
       "3                3--42  \n",
       "4                3--30  \n",
       "\n",
       "[5 rows x 22 columns]"
      ]
     },
     "execution_count": 125,
     "metadata": {},
     "output_type": "execute_result"
    }
   ],
   "source": [
    "data.head()"
   ]
  },
  {
   "cell_type": "markdown",
   "id": "b9fc9b92",
   "metadata": {},
   "source": [
    "# Most Matches Played by Each Team"
   ]
  },
  {
   "cell_type": "code",
   "execution_count": 126,
   "id": "01a72dfb",
   "metadata": {},
   "outputs": [
    {
     "data": {
      "text/plain": [
       "team1\n",
       "PBKS    9\n",
       "KKR     8\n",
       "GT      8\n",
       "RCB     8\n",
       "CSK     7\n",
       "DC      7\n",
       "RR      7\n",
       "MI      7\n",
       "LSG     7\n",
       "SRH     6\n",
       "Name: count, dtype: int64"
      ]
     },
     "execution_count": 126,
     "metadata": {},
     "output_type": "execute_result"
    }
   ],
   "source": [
    "data['team1'].value_counts()"
   ]
  },
  {
   "cell_type": "code",
   "execution_count": 89,
   "id": "c719f5dc",
   "metadata": {},
   "outputs": [
    {
     "data": {
      "text/plain": [
       "team2\n",
       "MI      9\n",
       "RCB     8\n",
       "PBKS    8\n",
       "SRH     8\n",
       "RR      7\n",
       "LSG     7\n",
       "CSK     7\n",
       "GT      7\n",
       "DC      7\n",
       "KKR     6\n",
       "Name: count, dtype: int64"
      ]
     },
     "execution_count": 89,
     "metadata": {},
     "output_type": "execute_result"
    }
   ],
   "source": [
    "data['team2'].value_counts()"
   ]
  },
  {
   "cell_type": "code",
   "execution_count": 90,
   "id": "9ba5118c",
   "metadata": {},
   "outputs": [],
   "source": [
    "matches_played = data['team1'].value_counts() + data['team2'].value_counts()"
   ]
  },
  {
   "cell_type": "code",
   "execution_count": 91,
   "id": "d51a7ae8",
   "metadata": {},
   "outputs": [
    {
     "data": {
      "text/plain": [
       "CSK     14\n",
       "DC      14\n",
       "GT      15\n",
       "KKR     14\n",
       "LSG     14\n",
       "MI      16\n",
       "PBKS    17\n",
       "RCB     16\n",
       "RR      14\n",
       "SRH     14\n",
       "Name: count, dtype: int64"
      ]
     },
     "execution_count": 91,
     "metadata": {},
     "output_type": "execute_result"
    }
   ],
   "source": [
    "matches_played"
   ]
  },
  {
   "cell_type": "code",
   "execution_count": 92,
   "id": "7156b1a3",
   "metadata": {},
   "outputs": [],
   "source": [
    "matches_played = matches_played.sort_values(ascending=False)"
   ]
  },
  {
   "cell_type": "code",
   "execution_count": 93,
   "id": "bba7af2b",
   "metadata": {},
   "outputs": [
    {
     "data": {
      "text/plain": [
       "PBKS    17\n",
       "MI      16\n",
       "RCB     16\n",
       "GT      15\n",
       "CSK     14\n",
       "DC      14\n",
       "KKR     14\n",
       "LSG     14\n",
       "RR      14\n",
       "SRH     14\n",
       "Name: count, dtype: int64"
      ]
     },
     "execution_count": 93,
     "metadata": {},
     "output_type": "execute_result"
    }
   ],
   "source": [
    "matches_played"
   ]
  },
  {
   "cell_type": "code",
   "execution_count": 94,
   "id": "0758429d",
   "metadata": {},
   "outputs": [
    {
     "data": {
      "image/png": "[encoded data removed]",
      "text/plain": [
       "<Figure size 1000x600 with 1 Axes>"
      ]
     },
     "metadata": {},
     "output_type": "display_data"
    }
   ],
   "source": [
    "plt.figure(figsize=(10,6))\n",
    "plt.bar(matches_played.index, matches_played.values, color='skyblue')\n",
    "plt.xticks(rotation=45)\n",
    "plt.title(\"Most Matches Played by IPL Teams\")\n",
    "plt.ylabel(\"Number of Matches\")\n",
    "plt.xlabel(\"Teams\")\n",
    "plt.tight_layout()\n",
    "plt.show()"
   ]
  },
  {
   "cell_type": "code",
   "execution_count": null,
   "id": "c4fc9717",
   "metadata": {},
   "outputs": [],
   "source": []
  },
  {
   "cell_type": "markdown",
   "id": "5318b9c3",
   "metadata": {},
   "source": [
    "# Most Wins by Team"
   ]
  },
  {
   "cell_type": "code",
   "execution_count": 96,
   "id": "dbf78314",
   "metadata": {},
   "outputs": [
    {
     "data": {
      "text/plain": [
       "Index(['match_id', 'date', 'venue', 'team1', 'team2', 'stage', 'toss_winner',\n",
       "       'toss_decision', 'first_ings_score', 'first_ings_wkts',\n",
       "       'second_ings_score', 'second_ings_wkts', 'match_result', 'match_winner',\n",
       "       'wb_runs', 'wb_wickets', 'balls_left', 'player_of_the_match',\n",
       "       'top_scorer', 'highscore', 'best_bowling', 'best_bowling_figure'],\n",
       "      dtype='object')"
      ]
     },
     "execution_count": 96,
     "metadata": {},
     "output_type": "execute_result"
    }
   ],
   "source": [
    "data.columns"
   ]
  },
  {
   "cell_type": "code",
   "execution_count": 97,
   "id": "c7579b40",
   "metadata": {},
   "outputs": [],
   "source": [
    "wins = data['match_winner'].value_counts()"
   ]
  },
  {
   "cell_type": "code",
   "execution_count": 99,
   "id": "b05ab6b6",
   "metadata": {},
   "outputs": [
    {
     "data": {
      "text/plain": [
       "match_winner\n",
       "PBKS    11\n",
       "RCB     10\n",
       "GT       9\n",
       "DC       8\n",
       "MI       8\n",
       "SRH      6\n",
       "LSG      6\n",
       "KKR      5\n",
       "CSK      4\n",
       "RR       4\n",
       "Name: count, dtype: int64"
      ]
     },
     "execution_count": 99,
     "metadata": {},
     "output_type": "execute_result"
    }
   ],
   "source": [
    "wins"
   ]
  },
  {
   "cell_type": "code",
   "execution_count": 100,
   "id": "f271160f",
   "metadata": {},
   "outputs": [
    {
     "data": {
      "image/png": "[encoded data removed]",
      "text/plain": [
       "<Figure size 1000x600 with 1 Axes>"
      ]
     },
     "metadata": {},
     "output_type": "display_data"
    }
   ],
   "source": [
    "plt.figure(figsize=(10,6))\n",
    "plt.bar(wins.index, wins.values, color='green')\n",
    "plt.xticks(rotation=45)\n",
    "plt.title(\"Most Wins by IPL Teams\")\n",
    "plt.ylabel(\"Number of Wins\")\n",
    "plt.xlabel(\"Teams\")\n",
    "plt.tight_layout()\n",
    "plt.show()"
   ]
  },
  {
   "cell_type": "code",
   "execution_count": null,
   "id": "c9e26fa0",
   "metadata": {},
   "outputs": [],
   "source": []
  },
  {
   "cell_type": "markdown",
   "id": "11c7f776",
   "metadata": {},
   "source": [
    "# Top 10 Venues"
   ]
  },
  {
   "cell_type": "code",
   "execution_count": 101,
   "id": "842c4693",
   "metadata": {},
   "outputs": [
    {
     "data": {
      "text/plain": [
       "Index(['match_id', 'date', 'venue', 'team1', 'team2', 'stage', 'toss_winner',\n",
       "       'toss_decision', 'first_ings_score', 'first_ings_wkts',\n",
       "       'second_ings_score', 'second_ings_wkts', 'match_result', 'match_winner',\n",
       "       'wb_runs', 'wb_wickets', 'balls_left', 'player_of_the_match',\n",
       "       'top_scorer', 'highscore', 'best_bowling', 'best_bowling_figure'],\n",
       "      dtype='object')"
      ]
     },
     "execution_count": 101,
     "metadata": {},
     "output_type": "execute_result"
    }
   ],
   "source": [
    "data.columns"
   ]
  },
  {
   "cell_type": "code",
   "execution_count": 107,
   "id": "b29123ab",
   "metadata": {},
   "outputs": [],
   "source": [
    "venue_counts =data['venue'].value_counts()"
   ]
  },
  {
   "cell_type": "code",
   "execution_count": 108,
   "id": "e9a17c23",
   "metadata": {},
   "outputs": [
    {
     "data": {
      "text/plain": [
       "venue\n",
       "Narendra Modi Stadium, Ahmedabad                 9\n",
       "Ekana Cricket Stadium, Lucknow                   8\n",
       "Eden Gardens, Kolkata                            7\n",
       "Wankhede Stadium, Mumbai                         7\n",
       "Sawai Mansingh Stadium, Jaipur                   7\n",
       "Arun Jaitley Stadium, Delhi                      7\n",
       "Rajiv Gandhi International Stadium, Hyderabad    6\n",
       "MA Chidambaram Stadium, Chennai                  6\n",
       "M. Chinnaswamy Stadium, Bangalore                6\n",
       "New PCA Cricket Stadium, Mullanpur               6\n",
       "ACA-VDCA Cricket Stadium, Vishakhapatnam         2\n",
       "Barsapara Stadium, Guwahati                      2\n",
       "HPCA Stadium, Dharamshala                        1\n",
       "Name: count, dtype: int64"
      ]
     },
     "execution_count": 108,
     "metadata": {},
     "output_type": "execute_result"
    }
   ],
   "source": [
    "venue_counts"
   ]
  },
  {
   "cell_type": "code",
   "execution_count": 109,
   "id": "c1b3d21f",
   "metadata": {},
   "outputs": [],
   "source": [
    "venue_counts =venue_counts.head(10)"
   ]
  },
  {
   "cell_type": "code",
   "execution_count": 110,
   "id": "735171ab",
   "metadata": {},
   "outputs": [
    {
     "data": {
      "text/plain": [
       "venue\n",
       "Narendra Modi Stadium, Ahmedabad                 9\n",
       "Ekana Cricket Stadium, Lucknow                   8\n",
       "Eden Gardens, Kolkata                            7\n",
       "Wankhede Stadium, Mumbai                         7\n",
       "Sawai Mansingh Stadium, Jaipur                   7\n",
       "Arun Jaitley Stadium, Delhi                      7\n",
       "Rajiv Gandhi International Stadium, Hyderabad    6\n",
       "MA Chidambaram Stadium, Chennai                  6\n",
       "M. Chinnaswamy Stadium, Bangalore                6\n",
       "New PCA Cricket Stadium, Mullanpur               6\n",
       "Name: count, dtype: int64"
      ]
     },
     "execution_count": 110,
     "metadata": {},
     "output_type": "execute_result"
    }
   ],
   "source": [
    "venue_counts"
   ]
  },
  {
   "cell_type": "code",
   "execution_count": 111,
   "id": "d6581335",
   "metadata": {},
   "outputs": [
    {
     "data": {
      "image/png": "[encoded data removed]",
      "text/plain": [
       "<Figure size 1000x600 with 1 Axes>"
      ]
     },
     "metadata": {},
     "output_type": "display_data"
    }
   ],
   "source": [
    "plt.figure(figsize=(10,6))\n",
    "plt.barh(venue_counts.index, venue_counts.values, color='orange')\n",
    "plt.title(\"Top 10 IPL Venues by Matches Played\")\n",
    "plt.xlabel(\"Number of Matches\")\n",
    "plt.ylabel(\"Venue\")\n",
    "plt.tight_layout()\n",
    "plt.show()"
   ]
  },
  {
   "cell_type": "code",
   "execution_count": null,
   "id": "049ff8d3",
   "metadata": {},
   "outputs": [],
   "source": []
  },
  {
   "cell_type": "markdown",
   "id": "53866b07",
   "metadata": {},
   "source": [
    "# Matches Highscore "
   ]
  },
  {
   "cell_type": "code",
   "execution_count": 112,
   "id": "515a11a7",
   "metadata": {},
   "outputs": [
    {
     "data": {
      "text/plain": [
       "Index(['match_id', 'date', 'venue', 'team1', 'team2', 'stage', 'toss_winner',\n",
       "       'toss_decision', 'first_ings_score', 'first_ings_wkts',\n",
       "       'second_ings_score', 'second_ings_wkts', 'match_result', 'match_winner',\n",
       "       'wb_runs', 'wb_wickets', 'balls_left', 'player_of_the_match',\n",
       "       'top_scorer', 'highscore', 'best_bowling', 'best_bowling_figure'],\n",
       "      dtype='object')"
      ]
     },
     "execution_count": 112,
     "metadata": {},
     "output_type": "execute_result"
    }
   ],
   "source": [
    "data.columns"
   ]
  },
  {
   "cell_type": "code",
   "execution_count": 118,
   "id": "006a0127",
   "metadata": {},
   "outputs": [],
   "source": [
    "highscore =data[\"highscore\"].value_counts().sort_index(),"
   ]
  },
  {
   "cell_type": "code",
   "execution_count": 120,
   "id": "7db8bc2a",
   "metadata": {},
   "outputs": [
    {
     "data": {
      "text/plain": [
       "highscore\n",
       "37.0     1\n",
       "40.0     1\n",
       "44.0     2\n",
       "50.0     1\n",
       "51.0     2\n",
       "52.0     1\n",
       "53.0     1\n",
       "56.0     1\n",
       "57.0     3\n",
       "58.0     2\n",
       "59.0     1\n",
       "60.0     1\n",
       "61.0     4\n",
       "62.0     2\n",
       "63.0     2\n",
       "65.0     2\n",
       "67.0     3\n",
       "69.0     1\n",
       "70.0     3\n",
       "71.0     1\n",
       "73.0     5\n",
       "74.0     2\n",
       "75.0     2\n",
       "76.0     2\n",
       "77.0     1\n",
       "81.0     2\n",
       "82.0     1\n",
       "87.0     2\n",
       "88.0     1\n",
       "89.0     1\n",
       "90.0     1\n",
       "91.0     1\n",
       "93.0     1\n",
       "94.0     2\n",
       "95.0     1\n",
       "97.0     3\n",
       "101.0    1\n",
       "103.0    1\n",
       "105.0    1\n",
       "106.0    1\n",
       "108.0    1\n",
       "117.0    1\n",
       "118.0    1\n",
       "141.0    1\n",
       "Name: count, dtype: int64"
      ]
     },
     "execution_count": 120,
     "metadata": {},
     "output_type": "execute_result"
    }
   ],
   "source": [
    "highscore"
   ]
  },
  {
   "cell_type": "code",
   "execution_count": 122,
   "id": "62879c15",
   "metadata": {},
   "outputs": [
    {
     "data": {
      "image/png": "[encoded data removed]",
      "text/plain": [
       "<Figure size 1000x600 with 1 Axes>"
      ]
     },
     "metadata": {},
     "output_type": "display_data"
    }
   ],
   "source": [
    "plt.figure(figsize=(10,6))\n",
    "plt.plot(highscore.values, highscore.index, marker='o', color='red')\n",
    "plt.title(\"Matches Highscore\")\n",
    "plt.ylabel(\"Highscore\")\n",
    "plt.xlabel(\"Number of Matches\")\n",
    "plt.grid(True)\n",
    "plt.tight_layout()\n",
    "plt.show()"
   ]
  },
  {
   "cell_type": "code",
   "execution_count": null,
   "id": "e2a7c988",
   "metadata": {},
   "outputs": [],
   "source": []
  },
  {
   "cell_type": "code",
   "execution_count": null,
   "id": "4f4bbb78",
   "metadata": {},
   "outputs": [],
   "source": []
  }
 ],
 "metadata": {
  "kernelspec": {
   "display_name": "Python 3 (ipykernel)",
   "language": "python",
   "name": "python3"
  },
  "language_info": {
   "codemirror_mode": {
    "name": "ipython",
    "version": 3
   },
   "file_extension": ".py",
   "mimetype": "text/x-python",
   "name": "python",
   "nbconvert_exporter": "python",
   "pygments_lexer": "ipython3",
   "version": "3.11.5"
  }
 },
 "nbformat": 4,
 "nbformat_minor": 5
}
